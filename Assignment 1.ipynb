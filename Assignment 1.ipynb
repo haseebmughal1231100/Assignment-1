{
 "cells": [
  {
   "cell_type": "markdown",
   "metadata": {},
   "source": [
    "# Find area of Circle when radius= 5 & Pi= 3.14"
   ]
  },
  {
   "cell_type": "code",
   "execution_count": 3,
   "metadata": {},
   "outputs": [
    {
     "name": "stdout",
     "output_type": "stream",
     "text": [
      "The area of circle is 78.5\n"
     ]
    }
   ],
   "source": [
    "radius=5\n",
    "pi=3.14\n",
    "    \n",
    "area=pi*radius**2\n",
    "    \n",
    "print(\"The area of circle is\" ,area)"
   ]
  },
  {
   "cell_type": "markdown",
   "metadata": {},
   "source": [
    "# Find Area of circle when radius is manual"
   ]
  },
  {
   "cell_type": "code",
   "execution_count": null,
   "metadata": {},
   "outputs": [],
   "source": [
    "radius=int(input(\"Enter Radius of Circle\"))\n",
    "\n",
    "pi=3.14\n",
    "\n",
    "circle=pi*radius**2\n",
    "print(circle)"
   ]
  },
  {
   "cell_type": "code",
   "execution_count": 3,
   "metadata": {},
   "outputs": [
    {
     "name": "stdout",
     "output_type": "stream",
     "text": [
      "('Faisalabad', 'Lahore', 'Islamabad', 'Karachi', 'Quetta')\n"
     ]
    }
   ],
   "source": [
    "# Enter Cities names in list\n",
    "\n",
    "list_cities=(\"Faisalabad\",\"Lahore\",\"Islamabad\",\"Karachi\",\"Quetta\")\n",
    "print(list_cities)"
   ]
  },
  {
   "cell_type": "code",
   "execution_count": 5,
   "metadata": {},
   "outputs": [
    {
     "name": "stdout",
     "output_type": "stream",
     "text": [
      "('93.4', '95', '98.7', '87.4', '83.02')\n"
     ]
    }
   ],
   "source": [
    "# show result list in python code\n",
    "\n",
    "result_list=(\"93.4\", \"95\", \"98.7\", \"87.4\", \"83.02\")\n",
    "print(result_list)"
   ]
  },
  {
   "cell_type": "code",
   "execution_count": 7,
   "metadata": {},
   "outputs": [
    {
     "name": "stdout",
     "output_type": "stream",
     "text": [
      "('45', '70', '54', '90', '42')\n"
     ]
    }
   ],
   "source": [
    "# show score in list in python code\n",
    "\n",
    "score_list=(\"45\", \"70\", \"54\", \"90\", \"42\")\n",
    "print(score_list)"
   ]
  },
  {
   "cell_type": "code",
   "execution_count": null,
   "metadata": {},
   "outputs": [],
   "source": []
  }
 ],
 "metadata": {
  "kernelspec": {
   "display_name": "Python 3",
   "language": "python",
   "name": "python3"
  },
  "language_info": {
   "codemirror_mode": {
    "name": "ipython",
    "version": 3
   },
   "file_extension": ".py",
   "mimetype": "text/x-python",
   "name": "python",
   "nbconvert_exporter": "python",
   "pygments_lexer": "ipython3",
   "version": "3.7.4"
  }
 },
 "nbformat": 4,
 "nbformat_minor": 2
}
